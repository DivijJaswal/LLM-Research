{
  "nbformat": 4,
  "nbformat_minor": 0,
  "metadata": {
    "colab": {
      "provenance": [],
      "include_colab_link": true
    },
    "kernelspec": {
      "name": "python3",
      "display_name": "Python 3"
    },
    "language_info": {
      "name": "python"
    }
  },
  "cells": [
    {
      "cell_type": "markdown",
      "metadata": {
        "id": "view-in-github",
        "colab_type": "text"
      },
      "source": [
        "<a href=\"https://colab.research.google.com/github/DivijJaswal/LLM-Research/blob/main/WordReductionMethods.ipynb\" target=\"_parent\"><img src=\"https://colab.research.google.com/assets/colab-badge.svg\" alt=\"Open In Colab\"/></a>"
      ]
    },
    {
      "cell_type": "code",
      "execution_count": null,
      "metadata": {
        "colab": {
          "base_uri": "https://localhost:8080/"
        },
        "id": "Fbwzfrma7GAu",
        "outputId": "b698817e-5bbc-405b-c28f-2c0162d4d843"
      },
      "outputs": [
        {
          "output_type": "stream",
          "name": "stdout",
          "text": [
            "fatal: destination path 'LLM-Research' already exists and is not an empty directory.\n"
          ]
        }
      ],
      "source": [
        "!git clone https://github.com/DivijJaswal/LLM-Research.git\n"
      ]
    },
    {
      "cell_type": "code",
      "source": [
        "import torch\n",
        "from transformers import pipeline\n",
        "from huggingface_hub import login\n",
        "from transformers import AutoTokenizer\n",
        "import random\n",
        "from sklearn.feature_extraction.text import TfidfVectorizer\n",
        "import numpy as np\n",
        "import spacy\n",
        "from sklearn.decomposition import TruncatedSVD\n"
      ],
      "metadata": {
        "id": "orif1WIM4VS6"
      },
      "execution_count": null,
      "outputs": []
    },
    {
      "cell_type": "code",
      "source": [
        "def shorten_text(text, chunk_size, method):\n",
        "    \"\"\"\n",
        "    Shortens the text using the specified method.\n",
        "    :param text: The original text to shorten.\n",
        "    :param chunk_size: The size of each chunk if needed.\n",
        "    :param method: Method to shorten the text.\n",
        "    :return: Shortened text.\n",
        "    \"\"\"\n",
        "    if method == \"clipping\":\n",
        "        return text[:chunk_size]\n",
        "\n",
        "    elif method == \"iterative\":\n",
        "        chunks = [text[i:i+chunk_size] for i in range(0, len(text), chunk_size)]\n",
        "        summarized_chunks = [summarizer(chunk, min_length=50, max_length=100, do_sample=False)[0]['summary_text'] for chunk in chunks]\n",
        "        return \" \".join(summarized_chunks)\n",
        "\n",
        "    elif method == \"random_removal\":\n",
        "        words = text.split()\n",
        "        while len(words) > chunk_size:\n",
        "            index_to_remove = random.randint(0, len(words) - 1)\n",
        "            del words[index_to_remove]\n",
        "        return \" \".join(words)\n",
        "\n",
        "    elif method == \"sentence_ranking\":\n",
        "        return tfidf_sentence_ranking(text, chunk_size)\n",
        "\n",
        "    elif method == \"sliding_window\":\n",
        "        return sliding_window(text, chunk_size)\n",
        "\n",
        "    elif method == \"entity_filtering\":\n",
        "        return entity_filtering(text, chunk_size)\n",
        "\n",
        "    elif method == \"summarize_summary\":\n",
        "        return summarize_summary(text, chunk_size)\n",
        "\n",
        "    elif method == \"lsa\":\n",
        "        return lsa_text_summarization(text, chunk_size)\n",
        "\n",
        "def tfidf_sentence_ranking(text, chunk_size):\n",
        "    sentences = text.split('. ')\n",
        "    vectorizer = TfidfVectorizer().fit_transform(sentences)\n",
        "    vectors = vectorizer.toarray()\n",
        "    sentence_scores = np.sum(vectors, axis=1)\n",
        "\n",
        "    ranked_sentences = sorted(((score, i, s) for i, (score, s) in enumerate(zip(sentence_scores, sentences))), reverse=True)\n",
        "    selected_sentences = [s for _, _, s in ranked_sentences[:int(chunk_size / 20)]]\n",
        "    return '. '.join(selected_sentences)\n",
        "\n",
        "def sliding_window(text, chunk_size, overlap=100):\n",
        "    words = text.split()\n",
        "    windows = []\n",
        "    for i in range(0, len(words), chunk_size - overlap):\n",
        "        window = words[i:i+chunk_size]\n",
        "        windows.append(\" \".join(window))\n",
        "\n",
        "    summarized_windows = [summarizer(w, min_length=50, max_length=100, do_sample=False)[0]['summary_text'] for w in windows]\n",
        "    return \" \".join(summarized_windows)\n",
        "\n",
        "def entity_filtering(text, chunk_size):\n",
        "    nlp = spacy.load(\"en_core_web_sm\")\n",
        "    doc = nlp(text)\n",
        "    important_sentences = []\n",
        "    for sent in doc.sents:\n",
        "        if any(ent.label_ in [\"PERSON\", \"ORG\", \"GPE\", \"DATE\"] for ent in sent.ents):\n",
        "            important_sentences.append(sent.text)\n",
        "        if len(important_sentences) >= chunk_size / 20:\n",
        "            break\n",
        "    return \" \".join(important_sentences)\n",
        "\n",
        "\n",
        "def summarize_summary(text, chunk_size, min_length=200):\n",
        "    \"\"\"\n",
        "    Recursively summarize the text until it is under a desired length.\n",
        "    \"\"\"\n",
        "    summarized_text = text\n",
        "    iteration = 0\n",
        "    while len(summarized_text) > chunk_size:\n",
        "        print(f\"Iteration {iteration + 1}: Text too long. Summarizing again.\")\n",
        "        summarized_text = summarizer(summarized_text, num_beams=5, min_length=min_length, max_length=chunk_size, do_sample=False)[0]['summary_text']\n",
        "        iteration += 1\n",
        "    return summarized_text\n",
        "\n",
        "def lsa_text_summarization(text, chunk_size):\n",
        "    \"\"\"\n",
        "    Use Latent Semantic Analysis (LSA) to extract the most important concepts from the text and return the most relevant sentences.\n",
        "    \"\"\"\n",
        "    sentences = text.split('. ')\n",
        "\n",
        "    vectorizer = TfidfVectorizer()\n",
        "    X = vectorizer.fit_transform(sentences)\n",
        "\n",
        "    lsa_model = TruncatedSVD(n_components=1, n_iter=100)\n",
        "    lsa_model.fit(X)\n",
        "    lsa_scores = lsa_model.transform(X)\n",
        "\n",
        "    # Rank sentences by their relevance to the main topics\n",
        "    ranked_sentences = sorted(((lsa_scores[i, 0], s) for i, s in enumerate(sentences)), reverse=True)\n",
        "\n",
        "    # Select the top N sentences based on LSA scores\n",
        "    selected_sentences = [s for _, s in ranked_sentences[:int(chunk_size / 20)]]\n",
        "    return '. '.join(selected_sentences)"
      ],
      "metadata": {
        "id": "286dXQhH35O5"
      },
      "execution_count": null,
      "outputs": []
    }
  ]
}